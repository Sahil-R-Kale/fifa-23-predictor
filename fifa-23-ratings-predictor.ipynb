{
 "cells": [
  {
   "cell_type": "markdown",
   "metadata": {},
   "source": [
    "# FIFA 23 Ratings Predictor\n",
    "#### A Project on Predicting Football Players' Ratings Using Machine Learning Techniques\n",
    "\n",
    "#### Introduction\n",
    "Football, the most popular sport in the world, has been revolutionised in recent times with new trends in data science, machine learning and artificial intelligence. Over the years, the coverage and impact of analytics on the beautiful game has vastly increased, with play-by-play data recorded and studied for every player who touches a ball anywhere on the planet. "
   ]
  },
  {
   "cell_type": "markdown",
   "metadata": {},
   "source": [
    "![title](https://miro.medium.com/max/860/0*gU-elbAC4jxISqKM)"
   ]
  },
  {
   "cell_type": "markdown",
   "metadata": {},
   "source": [
    "Considering the reliable impact that data analysis can have on the outcome of football matches, data science has risen to the forefront of the football industry with numerous possible applications including:\n",
    "1. Match planning and in-game tactical decisions\n",
    "2. Identifying play styles\n",
    "3. Player valuation and transfer market analysis\n",
    "4. Training regimens and focus\n",
    "5. Injury prediction and prevention using test results and workloads\n"
   ]
  },
  {
   "cell_type": "markdown",
   "metadata": {},
   "source": [
    "A particularly important element of data science in football is the ability to evaluate and analyse a player's in-game performance to draw inferences regarding his future impact and ability. \n",
    "\n",
    "The hugely popular football simulation game \"FIFA\", first released by EA Sports in 1993 and featuring thousands of professional players from all over the globe with hyper-realistic gameplay, makes use of similar analysis techniques to generate in-game stats for real-world football players based on their actual in-game performances."
   ]
  },
  {
   "cell_type": "markdown",
   "metadata": {},
   "source": [
    "### Objective and Motivation\n",
    "The main aim of this project is to use various data science and machine learning techniques to build a reliable and accurate predictor for attacking, passing and defensive ratings for football players in the \"FIFA 23\" simulation game using statistics from the 2021/22 season of professional football leagues in Europe.\n",
    "Different machine learning models will be tested and different model designs and hypotheses will be explored in order to maximise the predictive capability and performance of this project."
   ]
  },
  {
   "cell_type": "markdown",
   "metadata": {},
   "source": [
    "![title](https://totalfootballanalysis.com/wp-content/uploads/2020/09/Ars-att-1-1200x540.png)"
   ]
  },
  {
   "cell_type": "markdown",
   "metadata": {},
   "source": [
    "### Project Workflow\n",
    "\n",
    "In order to make use of a specific collection of statistics to generate the most accurate predictions, processed data will be passed through different regression models for training and evaluation of results.\n",
    "![image.jpg](https://www.researchgate.net/profile/Alexander-Osman/publication/330542014/figure/fig3/AS:736331865026562@1552566605605/A-generic-machine-learning-workflow.png)\n",
    "\n",
    "Data from the players of the following European football clubs will be used as a part of the project:\n",
    "1. Manchester United FC(England)\n",
    "2. Manchester City FC (England)\n",
    "3. Liverpool FC (England)\n",
    "4. Chelsea FC (England)\n",
    "5. Tottenham Hotspur (England)\n",
    "6. Arsenal FC (England)\n",
    "7. Real Madrid (Spain)\n",
    "8. Barcelona (Spain)\n",
    "9. Atletico Madrid (Spain)\n",
    "10. Bayern Munich (Germany)\n",
    "11. Borussia Dortmund (Germany)\n",
    "12. Juventus (Italy)\n",
    "13. Inter Milan (Italy)\n",
    "14. AC Milan (Italy)\n",
    "15. Paris Saint-Germain (France)"
   ]
  },
  {
   "cell_type": "markdown",
   "metadata": {},
   "source": [
    "### Part One: Defense\n",
    "\n",
    "This part deals with the prediction of the \"Defending\" statistic for the base editions of statistics in FIFA 23. Every player's contribution in the defensive side of the game will be analysed over 3 past seasons to determine which factors have the maximum impact on the overall rating for their defending and subsequently train a regression model for predicting the same.\n",
    "\n",
    "The model will then be optimised and used to predict the \"Defending\" stat in the \"FIFA 23\" game using records from the 2021/22 season gone by. "
   ]
  },
  {
   "cell_type": "code",
   "execution_count": 95,
   "metadata": {},
   "outputs": [
    {
     "data": {
      "text/html": [
       "<div>\n",
       "<style scoped>\n",
       "    .dataframe tbody tr th:only-of-type {\n",
       "        vertical-align: middle;\n",
       "    }\n",
       "\n",
       "    .dataframe tbody tr th {\n",
       "        vertical-align: top;\n",
       "    }\n",
       "\n",
       "    .dataframe thead th {\n",
       "        text-align: right;\n",
       "    }\n",
       "</style>\n",
       "<table border=\"1\" class=\"dataframe\">\n",
       "  <thead>\n",
       "    <tr style=\"text-align: right;\">\n",
       "      <th></th>\n",
       "      <th>Player</th>\n",
       "      <th>Season</th>\n",
       "      <th>Nation</th>\n",
       "      <th>Pos</th>\n",
       "      <th>Age</th>\n",
       "      <th>90s</th>\n",
       "      <th>Tkl</th>\n",
       "      <th>TklW</th>\n",
       "      <th>Def 3rd Tkls</th>\n",
       "      <th>Mid 3rd Tkls</th>\n",
       "      <th>...</th>\n",
       "      <th>BlocksSh</th>\n",
       "      <th>ShSv</th>\n",
       "      <th>BlocksPass</th>\n",
       "      <th>Int</th>\n",
       "      <th>Tkl+Int</th>\n",
       "      <th>Clr</th>\n",
       "      <th>Err</th>\n",
       "      <th>FIFADefPast</th>\n",
       "      <th>TablePos</th>\n",
       "      <th>FIFADefCurr</th>\n",
       "    </tr>\n",
       "  </thead>\n",
       "  <tbody>\n",
       "    <tr>\n",
       "      <th>0</th>\n",
       "      <td>Virgil van Dijk</td>\n",
       "      <td>2019/20</td>\n",
       "      <td>nl NED</td>\n",
       "      <td>DF</td>\n",
       "      <td>28.0</td>\n",
       "      <td>38.0</td>\n",
       "      <td>30.0</td>\n",
       "      <td>20.0</td>\n",
       "      <td>20.0</td>\n",
       "      <td>9.0</td>\n",
       "      <td>...</td>\n",
       "      <td>16.0</td>\n",
       "      <td>1.0</td>\n",
       "      <td>16.0</td>\n",
       "      <td>24.0</td>\n",
       "      <td>54.0</td>\n",
       "      <td>259.0</td>\n",
       "      <td>2.0</td>\n",
       "      <td>90.0</td>\n",
       "      <td>1.0</td>\n",
       "      <td>91.0</td>\n",
       "    </tr>\n",
       "    <tr>\n",
       "      <th>1</th>\n",
       "      <td>Trent Alexander-Arnold</td>\n",
       "      <td>2019/20</td>\n",
       "      <td>eng ENG</td>\n",
       "      <td>DF</td>\n",
       "      <td>20.0</td>\n",
       "      <td>35.3</td>\n",
       "      <td>58.0</td>\n",
       "      <td>25.0</td>\n",
       "      <td>38.0</td>\n",
       "      <td>14.0</td>\n",
       "      <td>...</td>\n",
       "      <td>9.0</td>\n",
       "      <td>0.0</td>\n",
       "      <td>44.0</td>\n",
       "      <td>34.0</td>\n",
       "      <td>92.0</td>\n",
       "      <td>98.0</td>\n",
       "      <td>2.0</td>\n",
       "      <td>78.0</td>\n",
       "      <td>1.0</td>\n",
       "      <td>80.0</td>\n",
       "    </tr>\n",
       "    <tr>\n",
       "      <th>3</th>\n",
       "      <td>Andrew Robertson</td>\n",
       "      <td>2019/20</td>\n",
       "      <td>sct SCO</td>\n",
       "      <td>DF</td>\n",
       "      <td>25.0</td>\n",
       "      <td>34.6</td>\n",
       "      <td>60.0</td>\n",
       "      <td>32.0</td>\n",
       "      <td>19.0</td>\n",
       "      <td>25.0</td>\n",
       "      <td>...</td>\n",
       "      <td>7.0</td>\n",
       "      <td>0.0</td>\n",
       "      <td>52.0</td>\n",
       "      <td>30.0</td>\n",
       "      <td>90.0</td>\n",
       "      <td>82.0</td>\n",
       "      <td>0.0</td>\n",
       "      <td>80.0</td>\n",
       "      <td>1.0</td>\n",
       "      <td>81.0</td>\n",
       "    </tr>\n",
       "    <tr>\n",
       "      <th>10</th>\n",
       "      <td>Joe Gomez</td>\n",
       "      <td>2019/20</td>\n",
       "      <td>eng ENG</td>\n",
       "      <td>DF</td>\n",
       "      <td>22.0</td>\n",
       "      <td>22.3</td>\n",
       "      <td>26.0</td>\n",
       "      <td>15.0</td>\n",
       "      <td>17.0</td>\n",
       "      <td>9.0</td>\n",
       "      <td>...</td>\n",
       "      <td>8.0</td>\n",
       "      <td>0.0</td>\n",
       "      <td>17.0</td>\n",
       "      <td>19.0</td>\n",
       "      <td>45.0</td>\n",
       "      <td>90.0</td>\n",
       "      <td>1.0</td>\n",
       "      <td>79.0</td>\n",
       "      <td>1.0</td>\n",
       "      <td>83.0</td>\n",
       "    </tr>\n",
       "    <tr>\n",
       "      <th>15</th>\n",
       "      <td>Dejan Lovren</td>\n",
       "      <td>2019/20</td>\n",
       "      <td>hr CRO</td>\n",
       "      <td>DF</td>\n",
       "      <td>30.0</td>\n",
       "      <td>8.6</td>\n",
       "      <td>16.0</td>\n",
       "      <td>9.0</td>\n",
       "      <td>12.0</td>\n",
       "      <td>4.0</td>\n",
       "      <td>...</td>\n",
       "      <td>6.0</td>\n",
       "      <td>0.0</td>\n",
       "      <td>7.0</td>\n",
       "      <td>8.0</td>\n",
       "      <td>24.0</td>\n",
       "      <td>81.0</td>\n",
       "      <td>1.0</td>\n",
       "      <td>80.0</td>\n",
       "      <td>1.0</td>\n",
       "      <td>78.0</td>\n",
       "    </tr>\n",
       "  </tbody>\n",
       "</table>\n",
       "<p>5 rows × 32 columns</p>\n",
       "</div>"
      ],
      "text/plain": [
       "                    Player   Season   Nation Pos   Age   90s   Tkl  TklW  \\\n",
       "0          Virgil van Dijk  2019/20   nl NED  DF  28.0  38.0  30.0  20.0   \n",
       "1   Trent Alexander-Arnold  2019/20  eng ENG  DF  20.0  35.3  58.0  25.0   \n",
       "3         Andrew Robertson  2019/20  sct SCO  DF  25.0  34.6  60.0  32.0   \n",
       "10               Joe Gomez  2019/20  eng ENG  DF  22.0  22.3  26.0  15.0   \n",
       "15            Dejan Lovren  2019/20   hr CRO  DF  30.0   8.6  16.0   9.0   \n",
       "\n",
       "    Def 3rd Tkls  Mid 3rd Tkls  ...  BlocksSh  ShSv  BlocksPass   Int  \\\n",
       "0           20.0           9.0  ...      16.0   1.0        16.0  24.0   \n",
       "1           38.0          14.0  ...       9.0   0.0        44.0  34.0   \n",
       "3           19.0          25.0  ...       7.0   0.0        52.0  30.0   \n",
       "10          17.0           9.0  ...       8.0   0.0        17.0  19.0   \n",
       "15          12.0           4.0  ...       6.0   0.0         7.0   8.0   \n",
       "\n",
       "    Tkl+Int    Clr  Err  FIFADefPast  TablePos  FIFADefCurr  \n",
       "0      54.0  259.0  2.0         90.0       1.0         91.0  \n",
       "1      92.0   98.0  2.0         78.0       1.0         80.0  \n",
       "3      90.0   82.0  0.0         80.0       1.0         81.0  \n",
       "10     45.0   90.0  1.0         79.0       1.0         83.0  \n",
       "15     24.0   81.0  1.0         80.0       1.0         78.0  \n",
       "\n",
       "[5 rows x 32 columns]"
      ]
     },
     "execution_count": 95,
     "metadata": {},
     "output_type": "execute_result"
    }
   ],
   "source": [
    "#Installing all required Python libraries\n",
    "!pip install pandas numpy matplotlib seaborn scikit-learn --quiet\n",
    "\n",
    "#Importing the processed dataset and filtering out defenders\n",
    "import pandas as pd\n",
    "def_df = pd.read_csv('def_test.csv')\n",
    "def_df = def_df[def_df['Pos']=='DF']\n",
    "def_df.head(5)"
   ]
  },
  {
   "cell_type": "markdown",
   "metadata": {},
   "source": [
    "![title](https://www.si.com/.image/t_share/MTg5NDgyMTg1MTMxMDQyNDAx/virgil-van-dijk-10.jpg)"
   ]
  },
  {
   "cell_type": "markdown",
   "metadata": {},
   "source": [
    "The dataframe displays defensive stats for each player, sorted by name, nationality, season, number ofminutes played and position.\n",
    "\n",
    "The various stats which are predicted to have a significant rating on the overall defending attribute of a player are as follows:\n",
    "1. Number of players tackled and tackles won\n",
    "2. Number of tackles in the defensive, middle and attacking third of the pitch\n",
    "3. Number of dribblers successfully tackled, attempted to tackle and success rate\n",
    "4. Number of pressures applied, successful pressures and success rate\n",
    "5. Number of blocks and shots on target saved\n",
    "6. Number of interceptions and clearances"
   ]
  },
  {
   "cell_type": "code",
   "execution_count": 96,
   "metadata": {},
   "outputs": [],
   "source": [
    "#Splitting the dataset into training and test data by season\n",
    "test_df = def_df[def_df.Season == '2021/22']\n",
    "train_df = def_df[(def_df.Season=='2019/20') | (def_df.Season == '2020/21')]"
   ]
  },
  {
   "cell_type": "markdown",
   "metadata": {},
   "source": [
    "The input and target columns need to provided to train the model. The inputs will be the defending statistics from the 2021/22 footballing season, while the target column will be the current \"Defending\" rating of the player in the game."
   ]
  },
  {
   "cell_type": "code",
   "execution_count": 4,
   "metadata": {},
   "outputs": [],
   "source": [
    "#Identifying input and target columns\n",
    "inputs=train_df[train_df.columns[6:-1]]\n",
    "targets=train_df[train_df.columns[-1]]"
   ]
  },
  {
   "cell_type": "markdown",
   "metadata": {},
   "source": [
    "The data is ready to be passed through different regression models, and the accuracy of each model on the validation dataset can be analysed.\n",
    "\n",
    "### Model 1: Simple Linear Regression"
   ]
  },
  {
   "cell_type": "code",
   "execution_count": 27,
   "metadata": {},
   "outputs": [
    {
     "name": "stdout",
     "output_type": "stream",
     "text": [
      "The accuracy is:  91.2401429757837 \n",
      "The RMSE error is:  2.004694530286966\n"
     ]
    }
   ],
   "source": [
    "#Training models and calculating accuracy \n",
    "from sklearn.linear_model import LinearRegression\n",
    "model=LinearRegression()\n",
    "model.fit(inputs,targets)\n",
    "preds = model.predict(inputs)\n",
    "\n",
    "from sklearn.metrics import mean_squared_error,accuracy_score\n",
    "rmse1 = mean_squared_error(targets,preds,squared=False)\n",
    "accuracy1=model.score(inputs,targets)*100\n",
    "\n",
    "print(\"The accuracy is: \",accuracy1,\"\\nThe RMSE error is: \",rmse1)"
   ]
  },
  {
   "cell_type": "markdown",
   "metadata": {},
   "source": [
    "### Model 2: Decision Tree Classifier"
   ]
  },
  {
   "cell_type": "code",
   "execution_count": 44,
   "metadata": {},
   "outputs": [
    {
     "name": "stdout",
     "output_type": "stream",
     "text": [
      "The accuracy is:  96.12655486520426 \n",
      "The RMSE error is:  1.333056021390093\n"
     ]
    }
   ],
   "source": [
    "from sklearn.ensemble import RandomForestRegressor\n",
    "model2 = RandomForestRegressor(n_estimators=50,n_jobs=-1,random_state=42)\n",
    "model2.fit(inputs,targets)\n",
    "preds2 = model2.predict(inputs)\n",
    "\n",
    "rmse2 = mean_squared_error(targets,preds2,squared=False)\n",
    "accuracy2=model2.score(inputs,targets)*100\n",
    "\n",
    "print(\"The accuracy is: \",accuracy2,\"\\nThe RMSE error is: \",rmse2)"
   ]
  },
  {
   "cell_type": "markdown",
   "metadata": {},
   "source": [
    "### Model 3: Bayesian Ridge Regressor"
   ]
  },
  {
   "cell_type": "code",
   "execution_count": 45,
   "metadata": {},
   "outputs": [
    {
     "name": "stdout",
     "output_type": "stream",
     "text": [
      "The accuracy is:  91.18326818272608 \n",
      "The RMSE error is:  2.011191903292401\n"
     ]
    }
   ],
   "source": [
    "from sklearn.linear_model import BayesianRidge\n",
    "model3=BayesianRidge()\n",
    "model3.fit(inputs,targets)\n",
    "preds3 = model3.predict(inputs)\n",
    "\n",
    "rmse3 = mean_squared_error(targets,preds3,squared=False)\n",
    "accuracy3=model3.score(inputs,targets)*100\n",
    "\n",
    "print(\"The accuracy is: \",accuracy3,\"\\nThe RMSE error is: \",rmse3)"
   ]
  },
  {
   "cell_type": "markdown",
   "metadata": {},
   "source": [
    "The accuracy and RMSE errors for each of the models can thus be tabulated. \n",
    "It is observed that the Decision Tree Regressor provides maximum accuracy for the required data and will thus be used to generate test results."
   ]
  },
  {
   "cell_type": "code",
   "execution_count": 46,
   "metadata": {
    "code_folding": []
   },
   "outputs": [
    {
     "data": {
      "text/html": [
       "<div>\n",
       "<style scoped>\n",
       "    .dataframe tbody tr th:only-of-type {\n",
       "        vertical-align: middle;\n",
       "    }\n",
       "\n",
       "    .dataframe tbody tr th {\n",
       "        vertical-align: top;\n",
       "    }\n",
       "\n",
       "    .dataframe thead th {\n",
       "        text-align: right;\n",
       "    }\n",
       "</style>\n",
       "<table border=\"1\" class=\"dataframe\">\n",
       "  <thead>\n",
       "    <tr style=\"text-align: right;\">\n",
       "      <th></th>\n",
       "      <th>Model</th>\n",
       "      <th>Accuracy</th>\n",
       "      <th>RMSE Error</th>\n",
       "    </tr>\n",
       "  </thead>\n",
       "  <tbody>\n",
       "    <tr>\n",
       "      <th>1</th>\n",
       "      <td>Decision Tree Regressor</td>\n",
       "      <td>96.126555</td>\n",
       "      <td>1.333056</td>\n",
       "    </tr>\n",
       "    <tr>\n",
       "      <th>0</th>\n",
       "      <td>Linear Regressor</td>\n",
       "      <td>91.240143</td>\n",
       "      <td>2.004695</td>\n",
       "    </tr>\n",
       "    <tr>\n",
       "      <th>2</th>\n",
       "      <td>Bayesian Regressor</td>\n",
       "      <td>91.183268</td>\n",
       "      <td>2.011192</td>\n",
       "    </tr>\n",
       "  </tbody>\n",
       "</table>\n",
       "</div>"
      ],
      "text/plain": [
       "                     Model   Accuracy  RMSE Error\n",
       "1  Decision Tree Regressor  96.126555    1.333056\n",
       "0         Linear Regressor  91.240143    2.004695\n",
       "2       Bayesian Regressor  91.183268    2.011192"
      ]
     },
     "execution_count": 46,
     "metadata": {},
     "output_type": "execute_result"
    }
   ],
   "source": [
    "accuracy_df = pd.DataFrame({'Model':['Linear Regressor','Decision Tree Regressor','Bayesian Regressor'],\n",
    "                            'Accuracy':[accuracy1, accuracy2,accuracy3],\n",
    "                            'RMSE Error':[rmse1,rmse2,rmse3]})\n",
    "accuracy_df.sort_values(by='Accuracy',ascending=False)"
   ]
  },
  {
   "cell_type": "markdown",
   "metadata": {},
   "source": [
    "### Predicting final results\n",
    "The hyperparameters are thus tuned to fit the training data. The test results are generated and saved as a separately accessible Excel sheet."
   ]
  },
  {
   "cell_type": "code",
   "execution_count": 77,
   "metadata": {},
   "outputs": [
    {
     "name": "stdout",
     "output_type": "stream",
     "text": [
      "The accuracy is:  96.7064499634158 \n",
      "The RMSE error is:  1.229226259644416\n"
     ]
    }
   ],
   "source": [
    "final_model = RandomForestRegressor(n_estimators=64,n_jobs=-1,max_depth=15,min_weight_fraction_leaf=0,max_leaf_nodes=2**6,random_state=42)\n",
    "final_model.fit(inputs,targets)\n",
    "preds2 = final_model.predict(inputs)\n",
    "\n",
    "final_rmse = mean_squared_error(targets,preds2,squared=False)\n",
    "final_accuracy=final_model.score(inputs,targets)*100\n",
    "\n",
    "print(\"The accuracy is: \",final_accuracy,\"\\nThe RMSE error is: \",final_rmse)"
   ]
  },
  {
   "cell_type": "code",
   "execution_count": 109,
   "metadata": {},
   "outputs": [
    {
     "name": "stdout",
     "output_type": "stream",
     "text": [
      "Requirement already satisfied: openpyxl in /opt/conda/lib/python3.9/site-packages (3.0.10)\r\n",
      "Requirement already satisfied: et-xmlfile in /opt/conda/lib/python3.9/site-packages (from openpyxl) (1.1.0)\r\n"
     ]
    }
   ],
   "source": [
    "#Predicting test results\n",
    "test_inputs=test_df[test_df.columns[6:-1]]\n",
    "test_targets=test_df[test_df.columns[-1]]\n",
    "test_preds = final_model.predict(test_inputs)\n",
    "import pandas as pd\n",
    "pd.options.mode.chained_assignment = None  \n",
    "test_df.loc[:,(\"FIFADefCurr\")] = test_preds\n",
    "\n",
    "#Exporting to excel\n",
    "!pip install openpyxl\n",
    "import openpyxl as px\n",
    "test_df.to_excel('def_data.xlsx')"
   ]
  },
  {
   "cell_type": "markdown",
   "metadata": {},
   "source": [
    "### Tabulating the model features"
   ]
  },
  {
   "cell_type": "code",
   "execution_count": 104,
   "metadata": {},
   "outputs": [
    {
     "data": {
      "text/html": [
       "<div>\n",
       "<style scoped>\n",
       "    .dataframe tbody tr th:only-of-type {\n",
       "        vertical-align: middle;\n",
       "    }\n",
       "\n",
       "    .dataframe tbody tr th {\n",
       "        vertical-align: top;\n",
       "    }\n",
       "\n",
       "    .dataframe thead th {\n",
       "        text-align: right;\n",
       "    }\n",
       "</style>\n",
       "<table border=\"1\" class=\"dataframe\">\n",
       "  <thead>\n",
       "    <tr style=\"text-align: right;\">\n",
       "      <th></th>\n",
       "      <th>Feature</th>\n",
       "      <th>Importance</th>\n",
       "    </tr>\n",
       "  </thead>\n",
       "  <tbody>\n",
       "    <tr>\n",
       "      <th>23</th>\n",
       "      <td>FIFADefPast</td>\n",
       "      <td>0.688128</td>\n",
       "    </tr>\n",
       "    <tr>\n",
       "      <th>10</th>\n",
       "      <td>PressuresSucc</td>\n",
       "      <td>0.072748</td>\n",
       "    </tr>\n",
       "    <tr>\n",
       "      <th>11</th>\n",
       "      <td>Pressures%</td>\n",
       "      <td>0.053728</td>\n",
       "    </tr>\n",
       "    <tr>\n",
       "      <th>9</th>\n",
       "      <td>Press</td>\n",
       "      <td>0.043013</td>\n",
       "    </tr>\n",
       "    <tr>\n",
       "      <th>20</th>\n",
       "      <td>Tkl+Int</td>\n",
       "      <td>0.020280</td>\n",
       "    </tr>\n",
       "    <tr>\n",
       "      <th>0</th>\n",
       "      <td>Tkl</td>\n",
       "      <td>0.019786</td>\n",
       "    </tr>\n",
       "    <tr>\n",
       "      <th>21</th>\n",
       "      <td>Clr</td>\n",
       "      <td>0.018933</td>\n",
       "    </tr>\n",
       "    <tr>\n",
       "      <th>13</th>\n",
       "      <td>Pressures Mid 3rd</td>\n",
       "      <td>0.011051</td>\n",
       "    </tr>\n",
       "    <tr>\n",
       "      <th>7</th>\n",
       "      <td>Tkl% vs Dribble</td>\n",
       "      <td>0.009007</td>\n",
       "    </tr>\n",
       "    <tr>\n",
       "      <th>3</th>\n",
       "      <td>Mid 3rd Tkls</td>\n",
       "      <td>0.008032</td>\n",
       "    </tr>\n",
       "    <tr>\n",
       "      <th>12</th>\n",
       "      <td>Pressures Def 3rd</td>\n",
       "      <td>0.008010</td>\n",
       "    </tr>\n",
       "    <tr>\n",
       "      <th>14</th>\n",
       "      <td>Pressures Att 3rd</td>\n",
       "      <td>0.006663</td>\n",
       "    </tr>\n",
       "    <tr>\n",
       "      <th>19</th>\n",
       "      <td>Int</td>\n",
       "      <td>0.006622</td>\n",
       "    </tr>\n",
       "    <tr>\n",
       "      <th>16</th>\n",
       "      <td>BlocksSh</td>\n",
       "      <td>0.005460</td>\n",
       "    </tr>\n",
       "    <tr>\n",
       "      <th>24</th>\n",
       "      <td>TablePos</td>\n",
       "      <td>0.005199</td>\n",
       "    </tr>\n",
       "    <tr>\n",
       "      <th>8</th>\n",
       "      <td>Past vs Dribble</td>\n",
       "      <td>0.004370</td>\n",
       "    </tr>\n",
       "    <tr>\n",
       "      <th>5</th>\n",
       "      <td>Tkl vs Dribble</td>\n",
       "      <td>0.003455</td>\n",
       "    </tr>\n",
       "    <tr>\n",
       "      <th>2</th>\n",
       "      <td>Def 3rd Tkls</td>\n",
       "      <td>0.002891</td>\n",
       "    </tr>\n",
       "    <tr>\n",
       "      <th>18</th>\n",
       "      <td>BlocksPass</td>\n",
       "      <td>0.002818</td>\n",
       "    </tr>\n",
       "    <tr>\n",
       "      <th>15</th>\n",
       "      <td>Blocks</td>\n",
       "      <td>0.002163</td>\n",
       "    </tr>\n",
       "    <tr>\n",
       "      <th>22</th>\n",
       "      <td>Err</td>\n",
       "      <td>0.001921</td>\n",
       "    </tr>\n",
       "    <tr>\n",
       "      <th>6</th>\n",
       "      <td>Att vs Dribble</td>\n",
       "      <td>0.001888</td>\n",
       "    </tr>\n",
       "    <tr>\n",
       "      <th>4</th>\n",
       "      <td>Att 3rd Tkls</td>\n",
       "      <td>0.001883</td>\n",
       "    </tr>\n",
       "    <tr>\n",
       "      <th>1</th>\n",
       "      <td>TklW</td>\n",
       "      <td>0.001755</td>\n",
       "    </tr>\n",
       "    <tr>\n",
       "      <th>17</th>\n",
       "      <td>ShSv</td>\n",
       "      <td>0.000193</td>\n",
       "    </tr>\n",
       "  </tbody>\n",
       "</table>\n",
       "</div>"
      ],
      "text/plain": [
       "              Feature  Importance\n",
       "23        FIFADefPast    0.688128\n",
       "10      PressuresSucc    0.072748\n",
       "11         Pressures%    0.053728\n",
       "9               Press    0.043013\n",
       "20            Tkl+Int    0.020280\n",
       "0                 Tkl    0.019786\n",
       "21                Clr    0.018933\n",
       "13  Pressures Mid 3rd    0.011051\n",
       "7     Tkl% vs Dribble    0.009007\n",
       "3        Mid 3rd Tkls    0.008032\n",
       "12  Pressures Def 3rd    0.008010\n",
       "14  Pressures Att 3rd    0.006663\n",
       "19                Int    0.006622\n",
       "16           BlocksSh    0.005460\n",
       "24           TablePos    0.005199\n",
       "8     Past vs Dribble    0.004370\n",
       "5      Tkl vs Dribble    0.003455\n",
       "2        Def 3rd Tkls    0.002891\n",
       "18         BlocksPass    0.002818\n",
       "15             Blocks    0.002163\n",
       "22                Err    0.001921\n",
       "6      Att vs Dribble    0.001888\n",
       "4        Att 3rd Tkls    0.001883\n",
       "1                TklW    0.001755\n",
       "17               ShSv    0.000193"
      ]
     },
     "execution_count": 104,
     "metadata": {},
     "output_type": "execute_result"
    }
   ],
   "source": [
    "tree_importance_df = pd.DataFrame({\n",
    "    'Feature': inputs.columns,\n",
    "    'Importance': final_model.feature_importances_\n",
    "}).sort_values(by=['Importance'],ascending=False)\n",
    "\n",
    "tree_importance_df"
   ]
  },
  {
   "cell_type": "markdown",
   "metadata": {},
   "source": [
    "#### As seen from the feature importances, the ratings in the next generation, i.e. FIFA 23 here, have a significant dependence on the previous ratings, in this case, the ratings from FIFA 22.\n",
    "\n",
    "Plotting the top 10 important features, it can be seen that pressuring opponents and how successful the defender is in applying the pressure plays a significant factor in assessing how well he can defend. As is obvious, the number of tackles and clearances made also remain most important, while a high tackle success rate against dribblers also contributes to an improvement in the defending statistic."
   ]
  },
  {
   "cell_type": "code",
   "execution_count": 106,
   "metadata": {},
   "outputs": [
    {
     "data": {
      "image/png": "[encoded data removed]",
      "text/plain": [
       "<Figure size 432x288 with 1 Axes>"
      ]
     },
     "metadata": {
      "needs_background": "light"
     },
     "output_type": "display_data"
    }
   ],
   "source": [
    "top_10 = tree_importance_df.sort_values(by=['Importance'],ascending=False).head(10)\n",
    "import matplotlib.pyplot as plt\n",
    "plt.bar(top_10.Feature, top_10.Importance)\n",
    "plt.xticks(rotation=90);"
   ]
  },
  {
   "cell_type": "markdown",
   "metadata": {},
   "source": [
    "### Part Two: Midfield\n",
    "\n",
    "![Mid_Image](https://e0.365dm.com/20/08/768x432/skysports-kevin-de-bruyne-manchester-city_5068719.jpg?20200815213516)"
   ]
  },
  {
   "cell_type": "markdown",
   "metadata": {},
   "source": [
    "Midfielders occupy a key area on the pitch, providing the vital link between attack and defense. As such, excellent passing ability and a keen eye for a through pass is what makes midfielders stand out.\n",
    "\n",
    "This part thus deals with the prediction of the \"Passing\" statistic for the base editions of midfielders in FIFA 23. The contribution of every midfielder in terms of short, medium and long passes attempted and completed will be analysed over 3 past seasons to determine which factors have the maximum impact on the overall rating for their passing and subsequently train a regression model for predicting the same.\n",
    "\n",
    "The model will then be optimised in a similar way as for defenders and used to predict the \"Passing\" stat in the \"FIFA 23\" game using records from the 2021/22 season gone by."
   ]
  },
  {
   "cell_type": "code",
   "execution_count": 30,
   "metadata": {},
   "outputs": [
    {
     "data": {
      "text/html": [
       "<div>\n",
       "<style scoped>\n",
       "    .dataframe tbody tr th:only-of-type {\n",
       "        vertical-align: middle;\n",
       "    }\n",
       "\n",
       "    .dataframe tbody tr th {\n",
       "        vertical-align: top;\n",
       "    }\n",
       "\n",
       "    .dataframe thead th {\n",
       "        text-align: right;\n",
       "    }\n",
       "</style>\n",
       "<table border=\"1\" class=\"dataframe\">\n",
       "  <thead>\n",
       "    <tr style=\"text-align: right;\">\n",
       "      <th></th>\n",
       "      <th>Player</th>\n",
       "      <th>Season</th>\n",
       "      <th>Nation</th>\n",
       "      <th>Pos</th>\n",
       "      <th>Age</th>\n",
       "      <th>90s</th>\n",
       "      <th>TotalCmp</th>\n",
       "      <th>TotalAtt</th>\n",
       "      <th>TotalCmp%</th>\n",
       "      <th>TotDist</th>\n",
       "      <th>...</th>\n",
       "      <th>xA</th>\n",
       "      <th>A-xA</th>\n",
       "      <th>AstShots</th>\n",
       "      <th>1/3rd</th>\n",
       "      <th>PPA</th>\n",
       "      <th>CrossPA</th>\n",
       "      <th>Prog</th>\n",
       "      <th>FIFAPasPast</th>\n",
       "      <th>TablePos</th>\n",
       "      <th>FIFAPasCurr</th>\n",
       "    </tr>\n",
       "  </thead>\n",
       "  <tbody>\n",
       "    <tr>\n",
       "      <th>0</th>\n",
       "      <td>Fred</td>\n",
       "      <td>2019/20</td>\n",
       "      <td>br BRA</td>\n",
       "      <td>MF</td>\n",
       "      <td>26</td>\n",
       "      <td>39.7</td>\n",
       "      <td>2052</td>\n",
       "      <td>2377</td>\n",
       "      <td>86.3</td>\n",
       "      <td>41329</td>\n",
       "      <td>...</td>\n",
       "      <td>3.3</td>\n",
       "      <td>0.7</td>\n",
       "      <td>45</td>\n",
       "      <td>213</td>\n",
       "      <td>19</td>\n",
       "      <td>3</td>\n",
       "      <td>186</td>\n",
       "      <td>73</td>\n",
       "      <td>3</td>\n",
       "      <td>79.0</td>\n",
       "    </tr>\n",
       "    <tr>\n",
       "      <th>1</th>\n",
       "      <td>Nemanja Matic</td>\n",
       "      <td>2019/20</td>\n",
       "      <td>rs SRB</td>\n",
       "      <td>MF</td>\n",
       "      <td>30</td>\n",
       "      <td>28.4</td>\n",
       "      <td>1426</td>\n",
       "      <td>1607</td>\n",
       "      <td>88.7</td>\n",
       "      <td>26641</td>\n",
       "      <td>...</td>\n",
       "      <td>1.3</td>\n",
       "      <td>0.7</td>\n",
       "      <td>20</td>\n",
       "      <td>159</td>\n",
       "      <td>18</td>\n",
       "      <td>1</td>\n",
       "      <td>137</td>\n",
       "      <td>77</td>\n",
       "      <td>3</td>\n",
       "      <td>76.0</td>\n",
       "    </tr>\n",
       "    <tr>\n",
       "      <th>2</th>\n",
       "      <td>Scott McTominay</td>\n",
       "      <td>2019/20</td>\n",
       "      <td>sct SCO</td>\n",
       "      <td>MF</td>\n",
       "      <td>22</td>\n",
       "      <td>27.3</td>\n",
       "      <td>1063</td>\n",
       "      <td>1284</td>\n",
       "      <td>82.8</td>\n",
       "      <td>21604</td>\n",
       "      <td>...</td>\n",
       "      <td>1.2</td>\n",
       "      <td>-0.2</td>\n",
       "      <td>18</td>\n",
       "      <td>118</td>\n",
       "      <td>15</td>\n",
       "      <td>3</td>\n",
       "      <td>114</td>\n",
       "      <td>65</td>\n",
       "      <td>3</td>\n",
       "      <td>75.0</td>\n",
       "    </tr>\n",
       "    <tr>\n",
       "      <th>3</th>\n",
       "      <td>Juan Mata</td>\n",
       "      <td>2019/20</td>\n",
       "      <td>es ESP</td>\n",
       "      <td>MFFW</td>\n",
       "      <td>31</td>\n",
       "      <td>22.0</td>\n",
       "      <td>871</td>\n",
       "      <td>1044</td>\n",
       "      <td>83.4</td>\n",
       "      <td>14664</td>\n",
       "      <td>...</td>\n",
       "      <td>5.5</td>\n",
       "      <td>1.5</td>\n",
       "      <td>41</td>\n",
       "      <td>99</td>\n",
       "      <td>30</td>\n",
       "      <td>2</td>\n",
       "      <td>87</td>\n",
       "      <td>83</td>\n",
       "      <td>3</td>\n",
       "      <td>82.0</td>\n",
       "    </tr>\n",
       "    <tr>\n",
       "      <th>4</th>\n",
       "      <td>Jesse Lingard</td>\n",
       "      <td>2019/20</td>\n",
       "      <td>eng ENG</td>\n",
       "      <td>MFFW</td>\n",
       "      <td>26</td>\n",
       "      <td>21.1</td>\n",
       "      <td>567</td>\n",
       "      <td>662</td>\n",
       "      <td>85.6</td>\n",
       "      <td>8724</td>\n",
       "      <td>...</td>\n",
       "      <td>1.9</td>\n",
       "      <td>-0.9</td>\n",
       "      <td>24</td>\n",
       "      <td>57</td>\n",
       "      <td>17</td>\n",
       "      <td>0</td>\n",
       "      <td>50</td>\n",
       "      <td>76</td>\n",
       "      <td>3</td>\n",
       "      <td>74.0</td>\n",
       "    </tr>\n",
       "  </tbody>\n",
       "</table>\n",
       "<p>5 rows × 31 columns</p>\n",
       "</div>"
      ],
      "text/plain": [
       "            Player   Season   Nation   Pos  Age   90s  TotalCmp  TotalAtt  \\\n",
       "0             Fred  2019/20   br BRA    MF   26  39.7      2052      2377   \n",
       "1    Nemanja Matic  2019/20   rs SRB    MF   30  28.4      1426      1607   \n",
       "2  Scott McTominay  2019/20  sct SCO    MF   22  27.3      1063      1284   \n",
       "3        Juan Mata  2019/20   es ESP  MFFW   31  22.0       871      1044   \n",
       "4    Jesse Lingard  2019/20  eng ENG  MFFW   26  21.1       567       662   \n",
       "\n",
       "   TotalCmp%  TotDist  ...   xA  A-xA  AstShots  1/3rd  PPA  CrossPA  Prog  \\\n",
       "0       86.3    41329  ...  3.3   0.7        45    213   19        3   186   \n",
       "1       88.7    26641  ...  1.3   0.7        20    159   18        1   137   \n",
       "2       82.8    21604  ...  1.2  -0.2        18    118   15        3   114   \n",
       "3       83.4    14664  ...  5.5   1.5        41     99   30        2    87   \n",
       "4       85.6     8724  ...  1.9  -0.9        24     57   17        0    50   \n",
       "\n",
       "   FIFAPasPast  TablePos  FIFAPasCurr  \n",
       "0           73         3         79.0  \n",
       "1           77         3         76.0  \n",
       "2           65         3         75.0  \n",
       "3           83         3         82.0  \n",
       "4           76         3         74.0  \n",
       "\n",
       "[5 rows x 31 columns]"
      ]
     },
     "execution_count": 30,
     "metadata": {},
     "output_type": "execute_result"
    }
   ],
   "source": [
    "#Importing the dataset\n",
    "import pandas as pd\n",
    "mid_df = pd.read_csv('mid_stats.csv')\n",
    "mid_df.head(5)"
   ]
  },
  {
   "cell_type": "markdown",
   "metadata": {},
   "source": [
    "The compiled dataframe for midfielders displays passing stats for each player, sorted by name, nationality, season, number of minutes played and position.\n",
    "\n",
    "The various stats which are predicted to have a significant rating on the overall passing attribute of a midfield player are as follows:\n",
    "\n",
    "1. Number of total passes attempted, completed and completion rate\n",
    "2. Total distance covered by passes made and progressive distance\n",
    "3. Short range passes attempted, completed and completion rate\n",
    "4. Medium range passes attempted, completed and completion rate\n",
    "5. Long range passes attempted, completed and completion rate\n",
    "6. Number of assists, expected assists and their difference\n",
    "7. Number of completed passes that directly lead to a shot\n",
    "8. Number of progressive passes into the 18 yard box, crosses completed and total progressive passes"
   ]
  },
  {
   "cell_type": "code",
   "execution_count": 17,
   "metadata": {},
   "outputs": [],
   "source": [
    "#Splitting dataset into training and test data\n",
    "train_df = mid_df[(mid_df.Season == '2020/21') | (mid_df.Season == '2019/20')]\n",
    "inputs = train_df[train_df.columns[6:-1]]\n",
    "targets = train_df[train_df.columns[-1]]\n",
    "test_mid_df = mid_df[mid_df.Season=='2021/22']"
   ]
  },
  {
   "cell_type": "markdown",
   "metadata": {},
   "source": [
    "Different machine learning models can then be used to apply linear regression techniques on the training data and generate test results."
   ]
  },
  {
   "cell_type": "markdown",
   "metadata": {},
   "source": [
    "### Model 1: Simple Linear Regression"
   ]
  },
  {
   "cell_type": "code",
   "execution_count": 7,
   "metadata": {},
   "outputs": [
    {
     "name": "stdout",
     "output_type": "stream",
     "text": [
      "The accuracy is:  93.3914998579607 \n",
      "The RMSE error is:  1.7168953079718279\n"
     ]
    }
   ],
   "source": [
    "from sklearn.linear_model import LinearRegression\n",
    "model=LinearRegression()\n",
    "model.fit(inputs,targets)\n",
    "preds = model.predict(inputs)\n",
    "\n",
    "from sklearn.metrics import mean_squared_error\n",
    "rmse_mid1 = mean_squared_error(targets,preds,squared=False)\n",
    "accuracy_mid1=model.score(inputs,targets)*100\n",
    "\n",
    "print(\"The accuracy is: \",accuracy_mid1,\"\\nThe RMS error is: \",rmse_mid1)"
   ]
  },
  {
   "cell_type": "markdown",
   "metadata": {},
   "source": [
    "### Model 2: Decision Tree Regressor"
   ]
  },
  {
   "cell_type": "code",
   "execution_count": 46,
   "metadata": {},
   "outputs": [
    {
     "name": "stdout",
     "output_type": "stream",
     "text": [
      "The accuracy is:  98.58637043461823 \n",
      "The RMS error is:  0.7940725288677107\n"
     ]
    }
   ],
   "source": [
    "from sklearn.ensemble import RandomForestRegressor\n",
    "model2 = RandomForestRegressor(n_estimators=50,n_jobs=-1,random_state=42)\n",
    "model2.fit(inputs,targets)\n",
    "preds2 = model2.predict(inputs)\n",
    "\n",
    "rmse_mid2 = mean_squared_error(targets,preds2,squared=False)\n",
    "accuracy_mid2=model2.score(inputs,targets)*100\n",
    "\n",
    "print(\"The accuracy is: \",accuracy_mid2,\"\\nThe RMS error is: \",rmse_mid2)"
   ]
  },
  {
   "cell_type": "markdown",
   "metadata": {},
   "source": [
    "### Model 3: Bayesian Ridge Regressor "
   ]
  },
  {
   "cell_type": "code",
   "execution_count": 9,
   "metadata": {},
   "outputs": [
    {
     "name": "stdout",
     "output_type": "stream",
     "text": [
      "The accuracy is:  93.26921362426584 \n",
      "The RMS error is:  1.7327075406134476\n"
     ]
    }
   ],
   "source": [
    "from sklearn.linear_model import BayesianRidge\n",
    "model3=BayesianRidge()\n",
    "model3.fit(inputs,targets)\n",
    "preds3 = model3.predict(inputs)\n",
    "\n",
    "rmse_mid3 = mean_squared_error(targets,preds3,squared=False)\n",
    "accuracy_mid3=model3.score(inputs,targets)*100\n",
    "\n",
    "print(\"The accuracy is: \",accuracy_mid3,\"\\nThe RMS error is: \",rmse_mid3)"
   ]
  },
  {
   "cell_type": "markdown",
   "metadata": {},
   "source": [
    "The accuracy and RMSE errors for each of the models can thus be tabulated. \n",
    "It is observed that the Decision Tree Regressor provides maximum accuracy for the required data and will thus be used to generate test results."
   ]
  },
  {
   "cell_type": "code",
   "execution_count": 10,
   "metadata": {},
   "outputs": [
    {
     "data": {
      "text/html": [
       "<div>\n",
       "<style scoped>\n",
       "    .dataframe tbody tr th:only-of-type {\n",
       "        vertical-align: middle;\n",
       "    }\n",
       "\n",
       "    .dataframe tbody tr th {\n",
       "        vertical-align: top;\n",
       "    }\n",
       "\n",
       "    .dataframe thead th {\n",
       "        text-align: right;\n",
       "    }\n",
       "</style>\n",
       "<table border=\"1\" class=\"dataframe\">\n",
       "  <thead>\n",
       "    <tr style=\"text-align: right;\">\n",
       "      <th></th>\n",
       "      <th>Model</th>\n",
       "      <th>Accuracy</th>\n",
       "      <th>RMS Error</th>\n",
       "    </tr>\n",
       "  </thead>\n",
       "  <tbody>\n",
       "    <tr>\n",
       "      <th>1</th>\n",
       "      <td>Decision Tree Regressor</td>\n",
       "      <td>98.586370</td>\n",
       "      <td>0.794073</td>\n",
       "    </tr>\n",
       "    <tr>\n",
       "      <th>0</th>\n",
       "      <td>Linear Regressor</td>\n",
       "      <td>93.391500</td>\n",
       "      <td>1.716895</td>\n",
       "    </tr>\n",
       "    <tr>\n",
       "      <th>2</th>\n",
       "      <td>Bayesian Regressor</td>\n",
       "      <td>93.269214</td>\n",
       "      <td>1.732708</td>\n",
       "    </tr>\n",
       "  </tbody>\n",
       "</table>\n",
       "</div>"
      ],
      "text/plain": [
       "                     Model   Accuracy  RMS Error\n",
       "1  Decision Tree Regressor  98.586370   0.794073\n",
       "0         Linear Regressor  93.391500   1.716895\n",
       "2       Bayesian Regressor  93.269214   1.732708"
      ]
     },
     "execution_count": 10,
     "metadata": {},
     "output_type": "execute_result"
    }
   ],
   "source": [
    "accuracy_df = pd.DataFrame({'Model':['Linear Regressor','Decision Tree Regressor','Bayesian Regressor'],\n",
    "                            'Accuracy':[accuracy_mid1, accuracy_mid2,accuracy_mid3],\n",
    "                            'RMS Error':[rmse_mid1,rmse_mid2,rmse_mid3]})\n",
    "accuracy_df.sort_values(by='Accuracy',ascending=False)"
   ]
  },
  {
   "cell_type": "markdown",
   "metadata": {},
   "source": [
    "### Predicting Final Results\n",
    "The hyperparameters of the decision tree are thus tuned to fit the training data. The test results for midfielders are also generated and saved as a separately accessible Excel sheet."
   ]
  },
  {
   "cell_type": "code",
   "execution_count": 47,
   "metadata": {},
   "outputs": [
    {
     "name": "stdout",
     "output_type": "stream",
     "text": [
      "The accuracy is:  98.69565546251971 \n",
      "The RMS error is:  0.7627610778889133\n"
     ]
    }
   ],
   "source": [
    "from sklearn.ensemble import RandomForestRegressor\n",
    "final_model_mid = RandomForestRegressor(n_estimators=60,n_jobs=-1,max_depth=13,min_weight_fraction_leaf=0.0001,max_leaf_nodes=2**6,random_state=42)\n",
    "final_model_mid.fit(inputs,targets)\n",
    "final_preds = final_model_mid.predict(inputs)\n",
    "\n",
    "final_rmse_mid = mean_squared_error(targets,final_preds,squared=False)\n",
    "final_accuracy_mid=final_model_mid.score(inputs,targets)*100\n",
    "\n",
    "print(\"The accuracy is: \",final_accuracy_mid,\"\\nThe RMS error is: \",final_rmse_mid)"
   ]
  },
  {
   "cell_type": "code",
   "execution_count": 28,
   "metadata": {},
   "outputs": [
    {
     "name": "stdout",
     "output_type": "stream",
     "text": [
      "Requirement already satisfied: openpyxl in /opt/conda/lib/python3.9/site-packages (3.0.10)\r\n",
      "Requirement already satisfied: et-xmlfile in /opt/conda/lib/python3.9/site-packages (from openpyxl) (1.1.0)\r\n"
     ]
    }
   ],
   "source": [
    "#Predicting test results\n",
    "test_inputs=test_mid_df[test_mid_df.columns[6:-1]]\n",
    "test_targets=test_mid_df[test_mid_df.columns[-1]]\n",
    "test_mid_preds = final_model_mid.predict(test_inputs)\n",
    "import pandas as pd\n",
    "pd.options.mode.chained_assignment = None  \n",
    "test_mid_df.loc[:,(\"FIFAPasCurr\")] = test_mid_preds\n",
    "\n",
    "#Exporting to excel\n",
    "!pip install openpyxl\n",
    "import openpyxl as px\n",
    "test_mid_df.to_excel('mid_results.xlsx')"
   ]
  },
  {
   "cell_type": "markdown",
   "metadata": {},
   "source": [
    "### Tabulating Model Features"
   ]
  },
  {
   "cell_type": "code",
   "execution_count": 31,
   "metadata": {},
   "outputs": [
    {
     "data": {
      "text/html": [
       "<div>\n",
       "<style scoped>\n",
       "    .dataframe tbody tr th:only-of-type {\n",
       "        vertical-align: middle;\n",
       "    }\n",
       "\n",
       "    .dataframe tbody tr th {\n",
       "        vertical-align: top;\n",
       "    }\n",
       "\n",
       "    .dataframe thead th {\n",
       "        text-align: right;\n",
       "    }\n",
       "</style>\n",
       "<table border=\"1\" class=\"dataframe\">\n",
       "  <thead>\n",
       "    <tr style=\"text-align: right;\">\n",
       "      <th></th>\n",
       "      <th>Feature</th>\n",
       "      <th>Importance</th>\n",
       "    </tr>\n",
       "  </thead>\n",
       "  <tbody>\n",
       "    <tr>\n",
       "      <th>22</th>\n",
       "      <td>FIFAPasPast</td>\n",
       "      <td>0.883095</td>\n",
       "    </tr>\n",
       "    <tr>\n",
       "      <th>15</th>\n",
       "      <td>xA</td>\n",
       "      <td>0.019861</td>\n",
       "    </tr>\n",
       "    <tr>\n",
       "      <th>17</th>\n",
       "      <td>AstShots</td>\n",
       "      <td>0.015901</td>\n",
       "    </tr>\n",
       "    <tr>\n",
       "      <th>19</th>\n",
       "      <td>PPA</td>\n",
       "      <td>0.006873</td>\n",
       "    </tr>\n",
       "    <tr>\n",
       "      <th>12</th>\n",
       "      <td>LongAtt</td>\n",
       "      <td>0.006741</td>\n",
       "    </tr>\n",
       "    <tr>\n",
       "      <th>16</th>\n",
       "      <td>A-xA</td>\n",
       "      <td>0.006661</td>\n",
       "    </tr>\n",
       "    <tr>\n",
       "      <th>11</th>\n",
       "      <td>LongCmp</td>\n",
       "      <td>0.006324</td>\n",
       "    </tr>\n",
       "    <tr>\n",
       "      <th>7</th>\n",
       "      <td>ShortCmp%</td>\n",
       "      <td>0.005522</td>\n",
       "    </tr>\n",
       "    <tr>\n",
       "      <th>2</th>\n",
       "      <td>TotalCmp%</td>\n",
       "      <td>0.005455</td>\n",
       "    </tr>\n",
       "    <tr>\n",
       "      <th>6</th>\n",
       "      <td>ShortAtt</td>\n",
       "      <td>0.004266</td>\n",
       "    </tr>\n",
       "    <tr>\n",
       "      <th>0</th>\n",
       "      <td>TotalCmp</td>\n",
       "      <td>0.003990</td>\n",
       "    </tr>\n",
       "    <tr>\n",
       "      <th>10</th>\n",
       "      <td>MediumCmp%</td>\n",
       "      <td>0.003982</td>\n",
       "    </tr>\n",
       "    <tr>\n",
       "      <th>5</th>\n",
       "      <td>ShortCmp</td>\n",
       "      <td>0.003698</td>\n",
       "    </tr>\n",
       "    <tr>\n",
       "      <th>13</th>\n",
       "      <td>LongCmp%</td>\n",
       "      <td>0.003577</td>\n",
       "    </tr>\n",
       "    <tr>\n",
       "      <th>1</th>\n",
       "      <td>TotalAtt</td>\n",
       "      <td>0.003155</td>\n",
       "    </tr>\n",
       "    <tr>\n",
       "      <th>21</th>\n",
       "      <td>Prog</td>\n",
       "      <td>0.002914</td>\n",
       "    </tr>\n",
       "    <tr>\n",
       "      <th>8</th>\n",
       "      <td>MediumCmp</td>\n",
       "      <td>0.002706</td>\n",
       "    </tr>\n",
       "    <tr>\n",
       "      <th>14</th>\n",
       "      <td>Ast</td>\n",
       "      <td>0.002676</td>\n",
       "    </tr>\n",
       "    <tr>\n",
       "      <th>20</th>\n",
       "      <td>CrossPA</td>\n",
       "      <td>0.002637</td>\n",
       "    </tr>\n",
       "    <tr>\n",
       "      <th>4</th>\n",
       "      <td>PrgDist</td>\n",
       "      <td>0.002526</td>\n",
       "    </tr>\n",
       "    <tr>\n",
       "      <th>3</th>\n",
       "      <td>TotDist</td>\n",
       "      <td>0.002215</td>\n",
       "    </tr>\n",
       "    <tr>\n",
       "      <th>9</th>\n",
       "      <td>MediumAtt</td>\n",
       "      <td>0.001975</td>\n",
       "    </tr>\n",
       "    <tr>\n",
       "      <th>18</th>\n",
       "      <td>1/3rd</td>\n",
       "      <td>0.001893</td>\n",
       "    </tr>\n",
       "    <tr>\n",
       "      <th>23</th>\n",
       "      <td>TablePos</td>\n",
       "      <td>0.001355</td>\n",
       "    </tr>\n",
       "  </tbody>\n",
       "</table>\n",
       "</div>"
      ],
      "text/plain": [
       "        Feature  Importance\n",
       "22  FIFAPasPast    0.883095\n",
       "15           xA    0.019861\n",
       "17     AstShots    0.015901\n",
       "19          PPA    0.006873\n",
       "12      LongAtt    0.006741\n",
       "16         A-xA    0.006661\n",
       "11      LongCmp    0.006324\n",
       "7     ShortCmp%    0.005522\n",
       "2     TotalCmp%    0.005455\n",
       "6      ShortAtt    0.004266\n",
       "0      TotalCmp    0.003990\n",
       "10   MediumCmp%    0.003982\n",
       "5      ShortCmp    0.003698\n",
       "13     LongCmp%    0.003577\n",
       "1      TotalAtt    0.003155\n",
       "21         Prog    0.002914\n",
       "8     MediumCmp    0.002706\n",
       "14          Ast    0.002676\n",
       "20      CrossPA    0.002637\n",
       "4       PrgDist    0.002526\n",
       "3       TotDist    0.002215\n",
       "9     MediumAtt    0.001975\n",
       "18        1/3rd    0.001893\n",
       "23     TablePos    0.001355"
      ]
     },
     "execution_count": 31,
     "metadata": {},
     "output_type": "execute_result"
    }
   ],
   "source": [
    "tree_importance_mid_df = pd.DataFrame({\n",
    "    'Feature': inputs.columns,\n",
    "    'Importance': final_model_mid.feature_importances_\n",
    "}).sort_values(by=['Importance'],ascending=False)\n",
    "\n",
    "tree_importance_mid_df"
   ]
  },
  {
   "cell_type": "markdown",
   "metadata": {},
   "source": [
    "#### As seen from the feature importances again, the ratings for midfielders too in the next generation, i.e. FIFA 23 here, have a significant dependence on the previous ratings, in this case, the ratings from FIFA 22.\n",
    "\n",
    "It can be seen that expected assists(which show how well the player has been able to perform leading to assists), long passing statistics and how successful the midfielder is in providing passes that lead to a shot play a significant factor in assessing how well he ranks in his performance. \n",
    "\n",
    "As is obvious, the number of short passes and medium-range passes attempted and completed also remain most important and contribute to an improvement in the passing statistic."
   ]
  },
  {
   "cell_type": "markdown",
   "metadata": {},
   "source": [
    "### Part 3: Attack\n",
    "\n",
    "![Att_Image](https://assets.goal.com/v3/assets/bltcc7a7ffd2fbf71f5/blt41cf1c6ec6291f63/625b04f3998b0c4a9d8cccff/Cristiano_Ronaldo_Manchester_United_Norwich_Premier_League_2021-22.jpg?auto=webp&fit=crop&format=jpg&height=800&quality=60&width=1200)"
   ]
  },
  {
   "cell_type": "markdown",
   "metadata": {},
   "source": [
    "Football is a simple game, outscore your opponent and you win. This makes attackers the most significant and often the most valuable members of any football side.\n",
    "\n",
    "This part thus deals with the prediction of the \"Shooting\" statistic for the base editions of attackers in FIFA 23, which shows the overall shooting accuarcy in front of goal. The contribution of all attackers in terms of goals, shots attempted and on target and many other factors will be analysed over 3 past seasons to determine which factors have the maximum impact on the overall rating for their shooting and subsequently train a regression model for predicting the same.\n",
    "\n",
    "The model will again be optimised in a similar way and used to predict the \"Shooting\" stat in the \"FIFA 23\" game using records from the 2021/22 season gone by."
   ]
  },
  {
   "cell_type": "code",
   "execution_count": 34,
   "metadata": {},
   "outputs": [
    {
     "data": {
      "text/html": [
       "<div>\n",
       "<style scoped>\n",
       "    .dataframe tbody tr th:only-of-type {\n",
       "        vertical-align: middle;\n",
       "    }\n",
       "\n",
       "    .dataframe tbody tr th {\n",
       "        vertical-align: top;\n",
       "    }\n",
       "\n",
       "    .dataframe thead th {\n",
       "        text-align: right;\n",
       "    }\n",
       "</style>\n",
       "<table border=\"1\" class=\"dataframe\">\n",
       "  <thead>\n",
       "    <tr style=\"text-align: right;\">\n",
       "      <th></th>\n",
       "      <th>Player</th>\n",
       "      <th>Season</th>\n",
       "      <th>Nation</th>\n",
       "      <th>Pos</th>\n",
       "      <th>Age</th>\n",
       "      <th>90s</th>\n",
       "      <th>Goals</th>\n",
       "      <th>Shots</th>\n",
       "      <th>SoT</th>\n",
       "      <th>SoT%</th>\n",
       "      <th>...</th>\n",
       "      <th>PK</th>\n",
       "      <th>PKatt</th>\n",
       "      <th>xG</th>\n",
       "      <th>npxG</th>\n",
       "      <th>npxG/Sh</th>\n",
       "      <th>G-xG</th>\n",
       "      <th>np:G-xG</th>\n",
       "      <th>FIFAShoPast</th>\n",
       "      <th>TablePos</th>\n",
       "      <th>FIFAShoCurr</th>\n",
       "    </tr>\n",
       "  </thead>\n",
       "  <tbody>\n",
       "    <tr>\n",
       "      <th>0</th>\n",
       "      <td>Cristiano Ronaldo</td>\n",
       "      <td>2021/22</td>\n",
       "      <td>pt POR</td>\n",
       "      <td>FW</td>\n",
       "      <td>36</td>\n",
       "      <td>35.4</td>\n",
       "      <td>24</td>\n",
       "      <td>140</td>\n",
       "      <td>55</td>\n",
       "      <td>39.3</td>\n",
       "      <td>...</td>\n",
       "      <td>3</td>\n",
       "      <td>4</td>\n",
       "      <td>19.8</td>\n",
       "      <td>17.5</td>\n",
       "      <td>0.14</td>\n",
       "      <td>4.2</td>\n",
       "      <td>3.5</td>\n",
       "      <td>93</td>\n",
       "      <td>6</td>\n",
       "      <td>NaN</td>\n",
       "    </tr>\n",
       "    <tr>\n",
       "      <th>1</th>\n",
       "      <td>Jadon Sancho</td>\n",
       "      <td>2021/22</td>\n",
       "      <td>eng ENG</td>\n",
       "      <td>FWMF</td>\n",
       "      <td>21</td>\n",
       "      <td>27.6</td>\n",
       "      <td>5</td>\n",
       "      <td>38</td>\n",
       "      <td>13</td>\n",
       "      <td>34.2</td>\n",
       "      <td>...</td>\n",
       "      <td>0</td>\n",
       "      <td>0</td>\n",
       "      <td>4.1</td>\n",
       "      <td>4.1</td>\n",
       "      <td>0.13</td>\n",
       "      <td>-0.1</td>\n",
       "      <td>-0.1</td>\n",
       "      <td>76</td>\n",
       "      <td>6</td>\n",
       "      <td>NaN</td>\n",
       "    </tr>\n",
       "    <tr>\n",
       "      <th>2</th>\n",
       "      <td>Mason Greenwood</td>\n",
       "      <td>2021/22</td>\n",
       "      <td>eng ENG</td>\n",
       "      <td>FWMF</td>\n",
       "      <td>19</td>\n",
       "      <td>18.8</td>\n",
       "      <td>6</td>\n",
       "      <td>58</td>\n",
       "      <td>26</td>\n",
       "      <td>44.8</td>\n",
       "      <td>...</td>\n",
       "      <td>0</td>\n",
       "      <td>0</td>\n",
       "      <td>4.5</td>\n",
       "      <td>4.5</td>\n",
       "      <td>0.09</td>\n",
       "      <td>1.5</td>\n",
       "      <td>1.5</td>\n",
       "      <td>78</td>\n",
       "      <td>6</td>\n",
       "      <td>NaN</td>\n",
       "    </tr>\n",
       "    <tr>\n",
       "      <th>3</th>\n",
       "      <td>Marcus Rashford</td>\n",
       "      <td>2021/22</td>\n",
       "      <td>eng ENG</td>\n",
       "      <td>FWMF</td>\n",
       "      <td>23</td>\n",
       "      <td>18.4</td>\n",
       "      <td>5</td>\n",
       "      <td>42</td>\n",
       "      <td>16</td>\n",
       "      <td>38.1</td>\n",
       "      <td>...</td>\n",
       "      <td>0</td>\n",
       "      <td>0</td>\n",
       "      <td>3.2</td>\n",
       "      <td>3.2</td>\n",
       "      <td>0.10</td>\n",
       "      <td>1.8</td>\n",
       "      <td>1.8</td>\n",
       "      <td>84</td>\n",
       "      <td>6</td>\n",
       "      <td>NaN</td>\n",
       "    </tr>\n",
       "    <tr>\n",
       "      <th>4</th>\n",
       "      <td>Anthony Elanga</td>\n",
       "      <td>2021/22</td>\n",
       "      <td>se SWE</td>\n",
       "      <td>FW</td>\n",
       "      <td>19</td>\n",
       "      <td>16.1</td>\n",
       "      <td>3</td>\n",
       "      <td>27</td>\n",
       "      <td>11</td>\n",
       "      <td>40.7</td>\n",
       "      <td>...</td>\n",
       "      <td>0</td>\n",
       "      <td>0</td>\n",
       "      <td>4.0</td>\n",
       "      <td>4.0</td>\n",
       "      <td>0.16</td>\n",
       "      <td>-1.0</td>\n",
       "      <td>-1.0</td>\n",
       "      <td>60</td>\n",
       "      <td>6</td>\n",
       "      <td>NaN</td>\n",
       "    </tr>\n",
       "  </tbody>\n",
       "</table>\n",
       "<p>5 rows × 26 columns</p>\n",
       "</div>"
      ],
      "text/plain": [
       "              Player   Season   Nation   Pos  Age   90s  Goals  Shots  SoT  \\\n",
       "0  Cristiano Ronaldo  2021/22   pt POR    FW   36  35.4     24    140   55   \n",
       "1       Jadon Sancho  2021/22  eng ENG  FWMF   21  27.6      5     38   13   \n",
       "2    Mason Greenwood  2021/22  eng ENG  FWMF   19  18.8      6     58   26   \n",
       "3    Marcus Rashford  2021/22  eng ENG  FWMF   23  18.4      5     42   16   \n",
       "4     Anthony Elanga  2021/22   se SWE    FW   19  16.1      3     27   11   \n",
       "\n",
       "   SoT%  ...  PK  PKatt    xG  npxG  npxG/Sh  G-xG  np:G-xG  FIFAShoPast  \\\n",
       "0  39.3  ...   3      4  19.8  17.5     0.14   4.2      3.5           93   \n",
       "1  34.2  ...   0      0   4.1   4.1     0.13  -0.1     -0.1           76   \n",
       "2  44.8  ...   0      0   4.5   4.5     0.09   1.5      1.5           78   \n",
       "3  38.1  ...   0      0   3.2   3.2     0.10   1.8      1.8           84   \n",
       "4  40.7  ...   0      0   4.0   4.0     0.16  -1.0     -1.0           60   \n",
       "\n",
       "   TablePos  FIFAShoCurr  \n",
       "0         6          NaN  \n",
       "1         6          NaN  \n",
       "2         6          NaN  \n",
       "3         6          NaN  \n",
       "4         6          NaN  \n",
       "\n",
       "[5 rows x 26 columns]"
      ]
     },
     "execution_count": 34,
     "metadata": {},
     "output_type": "execute_result"
    }
   ],
   "source": [
    "#Importing the dataset\n",
    "import pandas as pd\n",
    "att_df = pd.read_csv('att_stats.csv')\n",
    "att_df.head(5)"
   ]
  },
  {
   "cell_type": "markdown",
   "metadata": {},
   "source": [
    "The compiled dataframe for attackers all over Europe and abroad displays attacking stats for each player, sorted by name, nationality, season, number of minutes played and position.\n",
    "\n",
    "The various stats which are predicted to have a significant rating on the overall shooting attribute of an attacking player are as follows:\n",
    "\n",
    "1. Number of shots take, shots on target and goals scored\n",
    "2. Percentage of shots on target, goals per shot and shot on target\n",
    "3. Average distance in yards from goal when goal is scored\n",
    "4. Shots and goals from free-kicks\n",
    "5. Shots and goals from penalty kicks\n",
    "6. Expected goals(xG), expected non-penalty goals \n",
    "7. Difference between expected and actual goals and non-penalty goals"
   ]
  },
  {
   "cell_type": "code",
   "execution_count": 35,
   "metadata": {},
   "outputs": [],
   "source": [
    "#Splitting the dataset into training and test dataset by season\n",
    "train_att_df = att_df[(att_df.Season == '2020/21') | (att_df.Season == '2019/20')]\n",
    "inputs_att = train_att_df[train_att_df.columns[6:-1]]\n",
    "targets_att = train_att_df[train_att_df.columns[-1]]\n",
    "test_att_df = att_df[att_df.Season=='2021/22']"
   ]
  },
  {
   "cell_type": "markdown",
   "metadata": {},
   "source": [
    "Different machine learning models can now be used to apply linear regression techniques on the training data and generate test results."
   ]
  },
  {
   "cell_type": "markdown",
   "metadata": {},
   "source": [
    "### Model 1: Simple Linear Regression"
   ]
  },
  {
   "cell_type": "code",
   "execution_count": 37,
   "metadata": {},
   "outputs": [
    {
     "name": "stdout",
     "output_type": "stream",
     "text": [
      "The accuracy is:  95.1548937183085 \n",
      "The RMS error is:  1.675720508857583\n"
     ]
    }
   ],
   "source": [
    "from sklearn.linear_model import LinearRegression\n",
    "model=LinearRegression()\n",
    "model.fit(inputs_att,targets_att)\n",
    "preds_att = model.predict(inputs_att)\n",
    "\n",
    "rmse_att1 = mean_squared_error(targets_att,preds_att,squared=False)\n",
    "accuracy_att1=model.score(inputs_att,targets_att)*100\n",
    "\n",
    "print(\"The accuracy is: \",accuracy_att1,\"\\nThe RMS error is: \",rmse_att1)"
   ]
  },
  {
   "cell_type": "markdown",
   "metadata": {},
   "source": [
    "### Model 2: Decision Tree Regressor"
   ]
  },
  {
   "cell_type": "code",
   "execution_count": 38,
   "metadata": {},
   "outputs": [
    {
     "name": "stdout",
     "output_type": "stream",
     "text": [
      "The accuracy is:  98.79775224316617 \n",
      "The RMS error is:  0.8347317228788714\n"
     ]
    }
   ],
   "source": [
    "from sklearn.ensemble import RandomForestRegressor\n",
    "model2 = RandomForestRegressor(n_estimators=50,n_jobs=-1)\n",
    "model2.fit(inputs_att,targets_att)\n",
    "preds_att2 = model2.predict(inputs_att)\n",
    "\n",
    "rmse_att2 = mean_squared_error(targets_att,preds_att2,squared=False)\n",
    "accuracy_att2=model2.score(inputs_att,targets_att)*100\n",
    "\n",
    "print(\"The accuracy is: \",accuracy_att2,\"\\nThe RMS error is: \",rmse_att2)"
   ]
  },
  {
   "cell_type": "markdown",
   "metadata": {},
   "source": [
    "### Model 3: Bayesian Ridge Regressor"
   ]
  },
  {
   "cell_type": "code",
   "execution_count": 39,
   "metadata": {},
   "outputs": [
    {
     "name": "stdout",
     "output_type": "stream",
     "text": [
      "The accuracy is:  95.00639323088289 \n",
      "The RMS error is:  1.7012067643992332\n"
     ]
    }
   ],
   "source": [
    "from sklearn.linear_model import BayesianRidge\n",
    "model3=BayesianRidge()\n",
    "model3.fit(inputs_att,targets_att)\n",
    "preds_att3 = model3.predict(inputs_att)\n",
    "\n",
    "rmse_att3 = mean_squared_error(targets_att,preds_att3,squared=False)\n",
    "accuracy_att3=model3.score(inputs_att,targets_att)*100\n",
    "\n",
    "print(\"The accuracy is: \",accuracy_att3,\"\\nThe RMS error is: \",rmse_att3)"
   ]
  },
  {
   "cell_type": "markdown",
   "metadata": {},
   "source": [
    "The accuracy and RMSE errors for each of the models can thus be tabulated. \n",
    "It is observed that the Decision Tree Regressor provides maximum accuracy for the required data and will thus be used to generate test results."
   ]
  },
  {
   "cell_type": "code",
   "execution_count": 42,
   "metadata": {},
   "outputs": [
    {
     "data": {
      "text/html": [
       "<div>\n",
       "<style scoped>\n",
       "    .dataframe tbody tr th:only-of-type {\n",
       "        vertical-align: middle;\n",
       "    }\n",
       "\n",
       "    .dataframe tbody tr th {\n",
       "        vertical-align: top;\n",
       "    }\n",
       "\n",
       "    .dataframe thead th {\n",
       "        text-align: right;\n",
       "    }\n",
       "</style>\n",
       "<table border=\"1\" class=\"dataframe\">\n",
       "  <thead>\n",
       "    <tr style=\"text-align: right;\">\n",
       "      <th></th>\n",
       "      <th>Model</th>\n",
       "      <th>Accuracy</th>\n",
       "      <th>RMS Error</th>\n",
       "    </tr>\n",
       "  </thead>\n",
       "  <tbody>\n",
       "    <tr>\n",
       "      <th>1</th>\n",
       "      <td>Decision Tree Regressor</td>\n",
       "      <td>98.797752</td>\n",
       "      <td>0.834732</td>\n",
       "    </tr>\n",
       "    <tr>\n",
       "      <th>0</th>\n",
       "      <td>Linear Regressor</td>\n",
       "      <td>95.154894</td>\n",
       "      <td>1.675721</td>\n",
       "    </tr>\n",
       "    <tr>\n",
       "      <th>2</th>\n",
       "      <td>Bayesian Regressor</td>\n",
       "      <td>95.006393</td>\n",
       "      <td>1.701207</td>\n",
       "    </tr>\n",
       "  </tbody>\n",
       "</table>\n",
       "</div>"
      ],
      "text/plain": [
       "                     Model   Accuracy  RMS Error\n",
       "1  Decision Tree Regressor  98.797752   0.834732\n",
       "0         Linear Regressor  95.154894   1.675721\n",
       "2       Bayesian Regressor  95.006393   1.701207"
      ]
     },
     "execution_count": 42,
     "metadata": {},
     "output_type": "execute_result"
    }
   ],
   "source": [
    "accuracy_att_df = pd.DataFrame({'Model':['Linear Regressor','Decision Tree Regressor','Bayesian Regressor'],\n",
    "                            'Accuracy':[accuracy_att1, accuracy_att2,accuracy_att3],\n",
    "                            'RMS Error':[rmse_att1,rmse_att2,rmse_att3]})\n",
    "accuracy_att_df.sort_values(by='Accuracy',ascending=False)"
   ]
  },
  {
   "cell_type": "markdown",
   "metadata": {},
   "source": [
    "### Predicting Final Results\n",
    "The hyperparameters of the decision tree are thus tuned to fit the training data. The test results for attackers are also generated and saved as a separately accessible Excel sheet."
   ]
  },
  {
   "cell_type": "code",
   "execution_count": 48,
   "metadata": {},
   "outputs": [
    {
     "name": "stdout",
     "output_type": "stream",
     "text": [
      "The accuracy is:  98.84511732989162 \n",
      "The RMS error is:  0.8181234915089739\n"
     ]
    }
   ],
   "source": [
    "#Tuning hyperparameters\n",
    "from sklearn.ensemble import RandomForestRegressor\n",
    "final_model_att = RandomForestRegressor(n_estimators=60,n_jobs=-1,max_depth=13,min_weight_fraction_leaf=0.0001,max_leaf_nodes=2**6,random_state=42)\n",
    "final_model_att.fit(inputs_att,targets_att)\n",
    "final_preds_att = final_model_att.predict(inputs_att)\n",
    "\n",
    "final_rmse_att = mean_squared_error(targets_att,final_preds_att,squared=False)\n",
    "final_accuracy_att=final_model_att.score(inputs_att,targets_att)*100\n",
    "\n",
    "print(\"The accuracy is: \",final_accuracy_att,\"\\nThe RMS error is: \",final_rmse_att)"
   ]
  },
  {
   "cell_type": "code",
   "execution_count": 49,
   "metadata": {},
   "outputs": [
    {
     "name": "stdout",
     "output_type": "stream",
     "text": [
      "Requirement already satisfied: openpyxl in /opt/conda/lib/python3.9/site-packages (3.0.10)\r\n",
      "Requirement already satisfied: et-xmlfile in /opt/conda/lib/python3.9/site-packages (from openpyxl) (1.1.0)\r\n"
     ]
    }
   ],
   "source": [
    "#Predicting test results\n",
    "test_inputs_att=test_att_df[test_att_df.columns[6:-1]]\n",
    "test_targets_att=test_att_df[test_att_df.columns[-1]]\n",
    "test_att_preds = final_model_att.predict(test_inputs_att)\n",
    "import pandas as pd\n",
    "pd.options.mode.chained_assignment = None  \n",
    "test_att_df.loc[:,(\"FIFAShoCurr\")] = test_att_preds\n",
    "\n",
    "#Exporting to excel\n",
    "!pip install openpyxl\n",
    "import openpyxl as px\n",
    "test_att_df.to_excel('att_results.xlsx')"
   ]
  },
  {
   "cell_type": "markdown",
   "metadata": {},
   "source": [
    "### Tabulating model features"
   ]
  },
  {
   "cell_type": "code",
   "execution_count": 50,
   "metadata": {},
   "outputs": [
    {
     "data": {
      "text/html": [
       "<div>\n",
       "<style scoped>\n",
       "    .dataframe tbody tr th:only-of-type {\n",
       "        vertical-align: middle;\n",
       "    }\n",
       "\n",
       "    .dataframe tbody tr th {\n",
       "        vertical-align: top;\n",
       "    }\n",
       "\n",
       "    .dataframe thead th {\n",
       "        text-align: right;\n",
       "    }\n",
       "</style>\n",
       "<table border=\"1\" class=\"dataframe\">\n",
       "  <thead>\n",
       "    <tr style=\"text-align: right;\">\n",
       "      <th></th>\n",
       "      <th>Feature</th>\n",
       "      <th>Importance</th>\n",
       "    </tr>\n",
       "  </thead>\n",
       "  <tbody>\n",
       "    <tr>\n",
       "      <th>17</th>\n",
       "      <td>FIFAShoPast</td>\n",
       "      <td>0.890927</td>\n",
       "    </tr>\n",
       "    <tr>\n",
       "      <th>0</th>\n",
       "      <td>Goals</td>\n",
       "      <td>0.019778</td>\n",
       "    </tr>\n",
       "    <tr>\n",
       "      <th>12</th>\n",
       "      <td>xG</td>\n",
       "      <td>0.019217</td>\n",
       "    </tr>\n",
       "    <tr>\n",
       "      <th>13</th>\n",
       "      <td>npxG</td>\n",
       "      <td>0.010337</td>\n",
       "    </tr>\n",
       "    <tr>\n",
       "      <th>5</th>\n",
       "      <td>SoT/90</td>\n",
       "      <td>0.007669</td>\n",
       "    </tr>\n",
       "    <tr>\n",
       "      <th>4</th>\n",
       "      <td>Sh/90</td>\n",
       "      <td>0.007123</td>\n",
       "    </tr>\n",
       "    <tr>\n",
       "      <th>18</th>\n",
       "      <td>TablePos</td>\n",
       "      <td>0.005959</td>\n",
       "    </tr>\n",
       "    <tr>\n",
       "      <th>3</th>\n",
       "      <td>SoT%</td>\n",
       "      <td>0.004670</td>\n",
       "    </tr>\n",
       "    <tr>\n",
       "      <th>8</th>\n",
       "      <td>Dist</td>\n",
       "      <td>0.004472</td>\n",
       "    </tr>\n",
       "    <tr>\n",
       "      <th>16</th>\n",
       "      <td>np:G-xG</td>\n",
       "      <td>0.004168</td>\n",
       "    </tr>\n",
       "    <tr>\n",
       "      <th>2</th>\n",
       "      <td>SoT</td>\n",
       "      <td>0.004134</td>\n",
       "    </tr>\n",
       "    <tr>\n",
       "      <th>15</th>\n",
       "      <td>G-xG</td>\n",
       "      <td>0.004030</td>\n",
       "    </tr>\n",
       "    <tr>\n",
       "      <th>14</th>\n",
       "      <td>npxG/Sh</td>\n",
       "      <td>0.003693</td>\n",
       "    </tr>\n",
       "    <tr>\n",
       "      <th>1</th>\n",
       "      <td>Shots</td>\n",
       "      <td>0.003589</td>\n",
       "    </tr>\n",
       "    <tr>\n",
       "      <th>6</th>\n",
       "      <td>G/Sh</td>\n",
       "      <td>0.003441</td>\n",
       "    </tr>\n",
       "    <tr>\n",
       "      <th>7</th>\n",
       "      <td>G/SoT</td>\n",
       "      <td>0.003136</td>\n",
       "    </tr>\n",
       "    <tr>\n",
       "      <th>9</th>\n",
       "      <td>FK</td>\n",
       "      <td>0.001504</td>\n",
       "    </tr>\n",
       "    <tr>\n",
       "      <th>10</th>\n",
       "      <td>PK</td>\n",
       "      <td>0.001249</td>\n",
       "    </tr>\n",
       "    <tr>\n",
       "      <th>11</th>\n",
       "      <td>PKatt</td>\n",
       "      <td>0.000904</td>\n",
       "    </tr>\n",
       "  </tbody>\n",
       "</table>\n",
       "</div>"
      ],
      "text/plain": [
       "        Feature  Importance\n",
       "17  FIFAShoPast    0.890927\n",
       "0         Goals    0.019778\n",
       "12           xG    0.019217\n",
       "13         npxG    0.010337\n",
       "5        SoT/90    0.007669\n",
       "4         Sh/90    0.007123\n",
       "18     TablePos    0.005959\n",
       "3          SoT%    0.004670\n",
       "8          Dist    0.004472\n",
       "16      np:G-xG    0.004168\n",
       "2           SoT    0.004134\n",
       "15         G-xG    0.004030\n",
       "14      npxG/Sh    0.003693\n",
       "1         Shots    0.003589\n",
       "6          G/Sh    0.003441\n",
       "7         G/SoT    0.003136\n",
       "9            FK    0.001504\n",
       "10           PK    0.001249\n",
       "11        PKatt    0.000904"
      ]
     },
     "execution_count": 50,
     "metadata": {},
     "output_type": "execute_result"
    }
   ],
   "source": [
    "tree_importance_att_df = pd.DataFrame({\n",
    "    'Feature': inputs_att.columns,\n",
    "    'Importance': final_model_att.feature_importances_\n",
    "}).sort_values(by=['Importance'],ascending=False)\n",
    "\n",
    "tree_importance_att_df"
   ]
  },
  {
   "cell_type": "markdown",
   "metadata": {},
   "source": [
    "#### It can be seen that the ratings for attackers too in the next generation, i.e. FIFA 23 here, have a significant dependence on the previous ratings, in this case, the ratings from FIFA 22.\n",
    "\n",
    "The feature importnaces show that the goals scored is the second-most important statistic as expected, while expected goals (xG) calculated according to every players' performance every match also contributes significantly. Also, shots attempted and shots on target per 90 minutes show how impactful the attacker's contribution has been and thus play an important factor in assessing how well he ranks in his performance. \n",
    "\n",
    "Surprisingly yet also expectedly, the distance from goal also plays a significant role in shooting, as shots on target from longer distance definitely show an increased shooting accuracy."
   ]
  },
  {
   "cell_type": "markdown",
   "metadata": {},
   "source": [
    "### Conclusion "
   ]
  },
  {
   "cell_type": "markdown",
   "metadata": {},
   "source": [
    "![Conclusion](https://www.enisa.europa.eu/news/enisa-news/conclusion-for-the-european-public-private-partnership-ppp-for-resilience-scheme/@@images/9e931ee7-c1ea-4009-8903-d7fb9c991483.jpeg)"
   ]
  },
  {
   "cell_type": "markdown",
   "metadata": {},
   "source": [
    "Thus, through this project, the main objective of building a \"FIFA Ratings Predictor\" model by exploring different Machine Learning techniques has been accomplished. \n",
    "\n",
    "Different algorithms such as Neural Networks, Random Forest and Bayesian Ridge were used to implement the required models.\n",
    "\n",
    "The predictions have also been compared to benchmark methods in order to better understand every model's predictive performance. \n",
    "\n",
    "It has been crucially found out how in-game statistics can be used to predict a professional football player's rating on a simulation game and which factors contribute most towards the same."
   ]
  },
  {
   "cell_type": "markdown",
   "metadata": {},
   "source": [
    "### Future Scope\n",
    "\n",
    "##### 1. Improved data\n",
    "The dataset has been manually compiled using online resources. An automatic data scraping and real-time compilation tool can help increase the overall efficiency of the project.\n",
    "\n",
    "###### 2. Player-centred models\n",
    "As a future expansion, a particular player's impact in real life can be studied in depth to assess future career progression and path.\n",
    "\n",
    "##### 3. Team profiles\n",
    "The ratings generated can be used to compare how much of a role they play in the prediction of a particular team's results."
   ]
  },
  {
   "cell_type": "markdown",
   "metadata": {},
   "source": [
    "![EndImage](https://www.spieltimes.com/wp-content/uploads/2022/06/FIFA-23.jpg)"
   ]
  },
  {
   "cell_type": "markdown",
   "metadata": {},
   "source": [
    "### References\n",
    "\n",
    "The dataset has been manually compiled from the following online resources:\n",
    "1. FBRef Football Statistics (https://fbref.com/en/)\n",
    "2. FUTBin- FIFA Ratings Website (https://www.futbin.com/)\n",
    "3. Official clubs and player websites\n",
    "\n",
    "The technical aspect of machine learning has been inspired by the \"Machine Learning with Python: Zero to GBMs\" online course provided by Jovian.ai. "
   ]
  },
  {
   "cell_type": "code",
   "execution_count": 1,
   "metadata": {},
   "outputs": [
    {
     "data": {
      "application/javascript": [
       "window.require && require([\"base/js/namespace\"],function(Jupyter){Jupyter.notebook.save_checkpoint()})"
      ],
      "text/plain": [
       "<IPython.core.display.Javascript object>"
      ]
     },
     "metadata": {},
     "output_type": "display_data"
    },
    {
     "name": "stdout",
     "output_type": "stream",
     "text": [
      "[jovian] Updating notebook \"sahilrkale05/fifa-23-ratings-predictor\" on https://jovian.ai\u001b[0m\n",
      "[jovian] Committed successfully! https://jovian.ai/sahilrkale05/fifa-23-ratings-predictor\u001b[0m\n"
     ]
    },
    {
     "data": {
      "text/plain": [
       "'https://jovian.ai/sahilrkale05/fifa-23-ratings-predictor'"
      ]
     },
     "execution_count": 1,
     "metadata": {},
     "output_type": "execute_result"
    }
   ],
   "source": [
    "!pip install jovian --upgrade --quiet\n",
    "import jovian\n",
    "jovian.commit(project=\"fifa-23-ratings-predictor\")"
   ]
  }
 ],
 "metadata": {
  "kernelspec": {
   "display_name": "Python 3 (ipykernel)",
   "language": "python",
   "name": "python3"
  },
  "language_info": {
   "codemirror_mode": {
    "name": "ipython",
    "version": 3
   },
   "file_extension": ".py",
   "mimetype": "text/x-python",
   "name": "python",
   "nbconvert_exporter": "python",
   "pygments_lexer": "ipython3",
   "version": "3.9.6"
  }
 },
 "nbformat": 4,
 "nbformat_minor": 2
}
